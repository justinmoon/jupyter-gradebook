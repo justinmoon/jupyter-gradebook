{
 "cells": [
  {
   "cell_type": "code",
   "execution_count": 15,
   "metadata": {},
   "outputs": [],
   "source": [
    "# Exercise 1: \n",
    "\n",
    "# Write a function that computes the nth fibonnacci number\n",
    "\n",
    "def fib(n):\n",
    "    return 1"
   ]
  },
  {
   "cell_type": "code",
   "execution_count": 17,
   "metadata": {},
   "outputs": [
    {
     "name": "stdout",
     "output_type": "stream",
     "text": [
      "==================================== test session starts ====================================\n",
      "platform linux -- Python 3.6.5, pytest-3.6.3, py-1.5.4, pluggy-0.6.0\n",
      "rootdir: /home/justin/dev/jupyter-gradebook, inifile:\n",
      "collected 1 item\n",
      "\n",
      "exercises.py F                                                                        [100%]\n",
      "\n",
      "========================================= FAILURES ==========================================\n",
      "_________________________________________ test_fib __________________________________________\n",
      "\n",
      "    def test_fib():\n",
      "        assert fib(1) == 1\n",
      ">       assert fib(6) == 8\n",
      "E       assert 1 == 8\n",
      "E        +  where 1 = fib(6)\n",
      "\n",
      "<ipython-input-17-a37d0ce3d2d7>:4: AssertionError\n",
      "================================= 1 failed in 0.03 seconds ==================================\n"
     ]
    }
   ],
   "source": [
    "%%run_pytest\n",
    "\n",
    "def test_fib():\n",
    "    assert fib(1) == 1\n",
    "    assert fib(6) == 8"
   ]
  },
  {
   "cell_type": "code",
   "execution_count": null,
   "metadata": {},
   "outputs": [],
   "source": []
  }
 ],
 "metadata": {
  "kernelspec": {
   "display_name": "Python 3",
   "language": "python",
   "name": "python3"
  },
  "language_info": {
   "codemirror_mode": {
    "name": "ipython",
    "version": 3
   },
   "file_extension": ".py",
   "mimetype": "text/x-python",
   "name": "python",
   "nbconvert_exporter": "python",
   "pygments_lexer": "ipython3",
   "version": "3.6.5"
  }
 },
 "nbformat": 4,
 "nbformat_minor": 2
}
